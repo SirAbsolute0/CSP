{
 "cells": [
  {
   "cell_type": "code",
   "execution_count": 1,
   "metadata": {},
   "outputs": [],
   "source": [
    "#Iterating through the first set of variables for Task A\n",
    "def csp(dict):\n",
    "    counter = 0\n",
    "    for b in range (1, 101):\n",
    "        counter += 1\n",
    "        for c in range (1, 101):\n",
    "            counter += 1\n",
    "            for e in range (1, 9):\n",
    "                counter += 1\n",
    "                for f in range (1, 79 - e):\n",
    "                    counter += 1\n",
    "                    if ((e + f + 21)**2 == e * e * (b + c + e + f) + 694):\n",
    "                        d = e + f + 21\n",
    "                        a = b + c + e + f\n",
    "                        counter += 2\n",
    "                        dict['a'] = a\n",
    "                        dict['b'] = b\n",
    "                        dict['c'] = c\n",
    "                        dict['d'] = d\n",
    "                        dict['e'] = e\n",
    "                        dict['f'] = f\n",
    "                        dict['g'] = 0\n",
    "                        dict['h'] = 0\n",
    "                        dict['i'] = 0\n",
    "                        dict['j'] = 0\n",
    "                        dict['k'] = 0 \n",
    "                        dict['l'] = 0\n",
    "                        dict['m'] = 0\n",
    "                        dict['n'] = 0\n",
    "                        dict['o'] = 0\n",
    "                        dict['nva'] += counter\n",
    "                        return"
   ]
  },
  {
   "cell_type": "code",
   "execution_count": 2,
   "metadata": {},
   "outputs": [],
   "source": [
    "import csv"
   ]
  },
  {
   "cell_type": "code",
   "execution_count": 3,
   "metadata": {},
   "outputs": [],
   "source": [
    "#Iterating through the second set of variables for Task B\n",
    "def csp2(dict):\n",
    "    h = ((dict['a'] - dict['c']) - 4)**(1/2) + dict['f']\n",
    "    counter = 1\n",
    "    for g in range(1, 20):\n",
    "        counter += 1\n",
    "        for i in range(1, 101):\n",
    "            counter += 1\n",
    "            if (i == (((h * ((g**2 + 7)/4)) + (dict['e'] * 16)) + 48)**(1/2) - g):\n",
    "                j = (g**2 + 7)/4\n",
    "                counter += 1\n",
    "                dict['g'] = g\n",
    "                dict['h'] = h\n",
    "                dict['i'] = i\n",
    "                dict['j'] = j\n",
    "                dict['k'] = 0 \n",
    "                dict['l'] = 0\n",
    "                dict['m'] = 0\n",
    "                dict['n'] = 0\n",
    "                dict['o'] = 0\n",
    "                dict['nva'] += counter\n",
    "                return\n",
    "        "
   ]
  },
  {
   "cell_type": "code",
   "execution_count": 4,
   "metadata": {},
   "outputs": [],
   "source": [
    "#Iterating through the third set of variables for Task C\n",
    "def csp3(dict):\n",
    "    counter = 0\n",
    "    for k in range(1, 101):\n",
    "        m = (k**2 - 25)/2\n",
    "        n = (m * dict['j'] + 100)**(1/2)\n",
    "        l = ((dict['g'] * (dict['b'] + dict['f']) * (k + m + n + 30)) - 1875)**(1/2) - n\n",
    "        o = ((dict['a']**2)*(k - dict['g']))/l\n",
    "        \n",
    "        counter += 5\n",
    "        \n",
    "        if (((n - o)**(2) == (dict['j'] - dict['f'])*o*2) and (l**3 == m**2 - (o*dict['f']*dict['a']))):\n",
    "            dict['k'] = k\n",
    "            dict['l'] = l\n",
    "            dict['m'] = m\n",
    "            dict['n'] = n\n",
    "            dict['o'] = o\n",
    "            dict['nva'] += counter\n",
    "            return"
   ]
  },
  {
   "cell_type": "code",
   "execution_count": 5,
   "metadata": {},
   "outputs": [],
   "source": [
    "#Fucntion to call all in one go or can run individually if preferred\n",
    "def csp_total(decision):\n",
    "    dict = { 'a' : -1, 'b' : -1, 'c' : -1, 'd' : -1, 'e' : -1, 'f' : -1, 'g' : -1, 'h' : -1, 'i' : -1, 'j' : -1, 'k' : -1, 'l' : -1, 'm' : -1, 'n' : -1, 'o' : -1, 'nva' : 0}\n",
    "    solution = False\n",
    "    \n",
    "    if (decision == 'a'):\n",
    "        csp(dict)\n",
    "    elif (decision == 'b'):\n",
    "        csp(dict)\n",
    "        csp2(dict)\n",
    "    elif (decision == 'c'):\n",
    "        csp(dict)\n",
    "        csp2(dict)\n",
    "        csp3(dict)\n",
    "    else:\n",
    "        print(\"Please enter either a, b, or c.\")\n",
    "        return\n",
    "        \n",
    "    for each in dict:\n",
    "        if each != -1:\n",
    "            solution = True\n",
    "        else:\n",
    "            solution = False\n",
    "            break\n",
    "    \n",
    "     #Saving to csv \n",
    "    #code by Ricardo Cárdenes from StackOverflow from this link: \n",
    "    #https://stackoverflow.com/questions/8685809/writing-a-dictionary-to-a-csv-file-with-one-line-for-every-key-value\n",
    "    with open('result.csv', 'w') as csv_file:  \n",
    "        writer = csv.writer(csv_file)\n",
    "        for key, value in dict.items():\n",
    "            writer.writerow([key, value])\n",
    "    if (solution):\n",
    "        print(\"Here is the solution: \")\n",
    "        print(dict)\n",
    "    else:\n",
    "        print(\"There is no solution\")"
   ]
  },
  {
   "cell_type": "code",
   "execution_count": 6,
   "metadata": {},
   "outputs": [],
   "source": [
    "def main():\n",
    "    while(True):\n",
    "        decision = input(\"Please choose one of the tasks (a, b, c): \")\n",
    "        csp_total(decision)\n",
    "        \n",
    "       "
   ]
  },
  {
   "cell_type": "code",
   "execution_count": null,
   "metadata": {},
   "outputs": [
    {
     "name": "stdout",
     "output_type": "stream",
     "text": [
      "Please choose one of the tasks (a, b, c): c\n",
      "Here is the solution: \n",
      "{'a': 10, 'b': 1, 'c': 2, 'd': 28, 'e': 3, 'f': 4, 'g': 5, 'h': 6.0, 'i': 7, 'j': 8.0, 'k': 15, 'l': 20.0, 'm': 100.0, 'n': 30.0, 'o': 50.0, 'nva': 1250}\n"
     ]
    }
   ],
   "source": [
    "main()"
   ]
  },
  {
   "cell_type": "code",
   "execution_count": null,
   "metadata": {},
   "outputs": [],
   "source": [
    "\n",
    "\n"
   ]
  },
  {
   "cell_type": "code",
   "execution_count": null,
   "metadata": {},
   "outputs": [],
   "source": []
  }
 ],
 "metadata": {
  "kernelspec": {
   "display_name": "Python 3",
   "language": "python",
   "name": "python3"
  },
  "language_info": {
   "codemirror_mode": {
    "name": "ipython",
    "version": 3
   },
   "file_extension": ".py",
   "mimetype": "text/x-python",
   "name": "python",
   "nbconvert_exporter": "python",
   "pygments_lexer": "ipython3",
   "version": "3.7.10"
  }
 },
 "nbformat": 4,
 "nbformat_minor": 4
}
